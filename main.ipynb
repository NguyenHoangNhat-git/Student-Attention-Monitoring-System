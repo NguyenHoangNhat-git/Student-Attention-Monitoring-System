{
 "cells": [
  {
   "cell_type": "markdown",
   "metadata": {},
   "source": [
    "# 1. Exploring data"
   ]
  },
  {
   "cell_type": "code",
   "execution_count": 1,
   "metadata": {},
   "outputs": [
    {
     "name": "stdout",
     "output_type": "stream",
     "text": [
      "There are 3 directories and 3 images in 3k\n",
      "There are 2 directories and 1 images in 3k/valid\n",
      "There are 0 directories and 215 images in 3k/valid/images\n",
      "There are 0 directories and 215 images in 3k/valid/labels\n",
      "There are 2 directories and 1 images in 3k/train\n",
      "There are 0 directories and 2975 images in 3k/train/images\n",
      "There are 0 directories and 2975 images in 3k/train/labels\n",
      "There are 2 directories and 0 images in 3k/test\n",
      "There are 0 directories and 105 images in 3k/test/images\n",
      "There are 0 directories and 105 images in 3k/test/labels\n"
     ]
    }
   ],
   "source": [
    "import os\n",
    "def walk_through_dir(dir):\n",
    "    for dirpaths, dirnames, filenames in os.walk(dir):\n",
    "        print(f\"There are {len(dirnames)} directories and {len(filenames)} images in {dirpaths}\")\n",
    "walk_through_dir(\"3k\")"
   ]
  },
  {
   "cell_type": "markdown",
   "metadata": {},
   "source": [
    "# 2. Training and evaluation"
   ]
  },
  {
   "cell_type": "code",
   "execution_count": 3,
   "metadata": {},
   "outputs": [],
   "source": [
    "import ultralytics\n",
    "import torch\n",
    "from ultralytics import models"
   ]
  },
  {
   "cell_type": "code",
   "execution_count": 9,
   "metadata": {},
   "outputs": [],
   "source": [
    "model = models.YOLO(\"yolo11s.pt\")"
   ]
  },
  {
   "cell_type": "code",
   "execution_count": 10,
   "metadata": {},
   "outputs": [
    {
     "data": {
      "text/plain": [
       "True"
      ]
     },
     "execution_count": 10,
     "metadata": {},
     "output_type": "execute_result"
    }
   ],
   "source": [
    "torch.cuda.is_available()"
   ]
  },
  {
   "cell_type": "code",
   "execution_count": null,
   "metadata": {},
   "outputs": [],
   "source": [
    "model.train(\n",
    "    data='data/data.yaml',\n",
    "    epochs=100,                  # ⬅️ More epochs, small datasets need more time to converge.\n",
    "    imgsz=640,                   # Keep this unless your objects are tiny — then try 800.\n",
    "    batch=8,                     # OK, unless VRAM allows bumping to 16 for smoother training.\n",
    "    device=0,                    # Good.\n",
    "    workers=2,                   # Safe.\n",
    "    project='runs/train',\n",
    "    name='s_3k3_100_balanced',\n",
    "    lr0=0.001,                   # ⬅️ Lower initial learning rate helps avoid background bias.\n",
    "    lrf=0.01,                    # Smooth decay.\n",
    "    optimizer='AdamW',           # (default, but explicit.)\n",
    "    close_mosaic=10,             # ⬅️ Helps model adapt to real samples toward the end.\n",
    "    patience=30,                 # ⬅️ Early stopping based on no improvement.\n",
    "    augment=True,                # Make sure it's on.\n",
    "    cache=True                   # Speed up training.\n",
    ")"
   ]
  },
  {
   "cell_type": "code",
   "execution_count": null,
   "metadata": {},
   "outputs": [],
   "source": [
    "model = models.YOLO(\"runs/train/s_3k_50/weights/best.pt\")\n",
    "metrics = model.val(data=\"3k/data.yaml\", split='test', batch=16,conf=0.25, iou=0.6, save_json=True)"
   ]
  },
  {
   "cell_type": "markdown",
   "metadata": {},
   "source": [
    "# 3. Making predictions"
   ]
  },
  {
   "cell_type": "code",
   "execution_count": null,
   "metadata": {},
   "outputs": [],
   "source": [
    "model = models.YOLO(\"runs/train/s_3k3_50/weights/best.pt\")\n",
    "for i in range(1,7):\n",
    "    results = model.predict(source=f\"samples/{i}.jpg\", conf=0.05, line_width=1)\n",
    "    results[0].save(filename=f'samples/{i}_pred.png')\n",
    "# results[0].show()"
   ]
  }
 ],
 "metadata": {
  "kernelspec": {
   "display_name": "base",
   "language": "python",
   "name": "python3"
  },
  "language_info": {
   "codemirror_mode": {
    "name": "ipython",
    "version": 3
   },
   "file_extension": ".py",
   "mimetype": "text/x-python",
   "name": "python",
   "nbconvert_exporter": "python",
   "pygments_lexer": "ipython3",
   "version": "3.12.7"
  }
 },
 "nbformat": 4,
 "nbformat_minor": 2
}
